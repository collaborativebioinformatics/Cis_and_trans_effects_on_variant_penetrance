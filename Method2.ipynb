{
 "cells": [
  {
   "cell_type": "code",
   "execution_count": 222,
   "metadata": {},
   "outputs": [],
   "source": [
    "# read vcf data\n",
    "import sys\n",
    "import os\n",
    "import re\n",
    "import argparse\n",
    "import pandas as pd\n",
    "import numpy as np  \n",
    "import gzip\n",
    "import pysam\n",
    "import io\n",
    "from struct_lmm import StructLMM"
   ]
  },
  {
   "cell_type": "code",
   "execution_count": 239,
   "metadata": {},
   "outputs": [],
   "source": [
    "HAP_P  = \"dataPrepScripts/output_local_ancestry_pcs.csv\"\n",
    "PHE_P = \"synthetic_small_v1.pheno1\"\n",
    "SUBSET = \"Phenotype(liability)\""
   ]
  },
  {
   "cell_type": "code",
   "execution_count": 236,
   "metadata": {},
   "outputs": [],
   "source": [
    "HAPS = pd.read_csv(HAP_P, header=1, index_col=0)"
   ]
  },
  {
   "cell_type": "code",
   "execution_count": 233,
   "metadata": {},
   "outputs": [],
   "source": [
    "PHE = pd.read_csv(PHE_P, sep=\"\\t\")"
   ]
  },
  {
   "cell_type": "code",
   "execution_count": 242,
   "metadata": {},
   "outputs": [],
   "source": [
    "y = PHE[SUBSET].to_numpy()"
   ]
  },
  {
   "cell_type": "code",
   "execution_count": 243,
   "metadata": {},
   "outputs": [],
   "source": [
    "E = HAPS.to_numpy()"
   ]
  },
  {
   "cell_type": "code",
   "execution_count": 246,
   "metadata": {},
   "outputs": [],
   "source": [
    "M = np.concatenate([np.ones((E.shape[0], 1)), E], axis=1)"
   ]
  },
  {
   "cell_type": "code",
   "execution_count": 229,
   "metadata": {},
   "outputs": [
    {
     "data": {
      "text/plain": [
       "(array([0, 0, 1, 1, 0, 1, 1, 1, 1, 0, 1, 1, 1, 0, 0, 1, 0, 0, 1, 0, 0, 0,\n",
       "        1, 1, 1, 0, 0, 0, 0, 0, 1, 0, 0, 0, 0, 0, 1, 0, 1, 0, 0, 0, 0, 0,\n",
       "        0, 1, 1, 0, 1, 1, 0, 0, 0, 1, 1, 1, 1, 0, 0, 0, 0, 1, 0, 1, 0, 0,\n",
       "        1, 0, 0, 0, 0, 0, 0, 0, 1, 0, 0, 1, 1, 0, 0, 0, 0, 0, 0, 0, 0, 0,\n",
       "        0, 0, 1, 0, 0, 1, 0, 0, 0, 0, 0, 1]),\n",
       " array([[1.],\n",
       "        [1.],\n",
       "        [1.],\n",
       "        [1.],\n",
       "        [1.],\n",
       "        [1.],\n",
       "        [1.],\n",
       "        [1.],\n",
       "        [1.],\n",
       "        [1.],\n",
       "        [1.],\n",
       "        [1.],\n",
       "        [1.],\n",
       "        [1.],\n",
       "        [1.],\n",
       "        [1.],\n",
       "        [1.],\n",
       "        [1.],\n",
       "        [1.],\n",
       "        [1.],\n",
       "        [1.],\n",
       "        [1.],\n",
       "        [1.],\n",
       "        [1.],\n",
       "        [1.],\n",
       "        [1.],\n",
       "        [1.],\n",
       "        [1.],\n",
       "        [1.],\n",
       "        [1.],\n",
       "        [1.],\n",
       "        [1.],\n",
       "        [1.],\n",
       "        [1.],\n",
       "        [1.],\n",
       "        [1.],\n",
       "        [1.],\n",
       "        [1.],\n",
       "        [1.],\n",
       "        [1.],\n",
       "        [1.],\n",
       "        [1.],\n",
       "        [1.],\n",
       "        [1.],\n",
       "        [1.],\n",
       "        [1.],\n",
       "        [1.],\n",
       "        [1.],\n",
       "        [1.],\n",
       "        [1.],\n",
       "        [1.],\n",
       "        [1.],\n",
       "        [1.],\n",
       "        [1.],\n",
       "        [1.],\n",
       "        [1.],\n",
       "        [1.],\n",
       "        [1.],\n",
       "        [1.],\n",
       "        [1.],\n",
       "        [1.],\n",
       "        [1.],\n",
       "        [1.],\n",
       "        [1.],\n",
       "        [1.],\n",
       "        [1.],\n",
       "        [1.],\n",
       "        [1.],\n",
       "        [1.],\n",
       "        [1.],\n",
       "        [1.],\n",
       "        [1.],\n",
       "        [1.],\n",
       "        [1.],\n",
       "        [1.],\n",
       "        [1.],\n",
       "        [1.],\n",
       "        [1.],\n",
       "        [1.],\n",
       "        [1.],\n",
       "        [1.],\n",
       "        [1.],\n",
       "        [1.],\n",
       "        [1.],\n",
       "        [1.],\n",
       "        [1.],\n",
       "        [1.],\n",
       "        [1.],\n",
       "        [1.],\n",
       "        [1.],\n",
       "        [1.],\n",
       "        [1.],\n",
       "        [1.],\n",
       "        [1.],\n",
       "        [1.],\n",
       "        [1.],\n",
       "        [1.],\n",
       "        [1.],\n",
       "        [1.],\n",
       "        [1.]]),\n",
       " array([[ 0.66922803,  0.07146041, -0.02017627, ...,  0.64559671,\n",
       "          0.52544078,  0.15757116],\n",
       "        [ 0.07146041,  0.79610454,  0.12336136, ...,  0.02093316,\n",
       "          0.00316154,  0.16862186],\n",
       "        [-0.02017627,  0.12336136,  0.27781016, ..., -0.03191376,\n",
       "         -0.03911793, -0.29690606],\n",
       "        ...,\n",
       "        [ 0.64559671,  0.02093316, -0.03191376, ...,  0.6305978 ,\n",
       "          0.5430673 ,  0.24064944],\n",
       "        [ 0.52544078,  0.00316154, -0.03911793, ...,  0.5430673 ,\n",
       "          0.57815068,  0.26196043],\n",
       "        [ 0.15757116,  0.16862186, -0.29690606, ...,  0.24064944,\n",
       "          0.26196043,  2.13438048]]),\n",
       " array([1, 1, 0, 0, 0, 0, 0, 0, 0, 0, 0, 0, 0, 1, 0, 0, 1, 0, 0, 1, 0, 1,\n",
       "        0, 1, 0, 1, 1, 1, 0, 0, 1, 1, 1, 1, 0, 0, 0, 0, 0, 1, 0, 0, 1, 0,\n",
       "        1, 0, 0, 1, 0, 1, 1, 1, 1, 0, 0, 0, 0, 1, 0, 1, 1, 0, 0, 1, 1, 0,\n",
       "        0, 1, 1, 1, 1, 1, 0, 1, 0, 1, 1, 1, 0, 1, 1, 0, 1, 1, 1, 0, 1, 1,\n",
       "        0, 1, 0, 1, 0, 0, 1, 0, 0, 1, 0, 0]),\n",
       " (100,),\n",
       " (100, 100),\n",
       " (100, 1),\n",
       " (100,))"
      ]
     },
     "execution_count": 229,
     "metadata": {},
     "output_type": "execute_result"
    }
   ],
   "source": [
    "y = vcf_df.iloc[2].to_numpy() # taking sample 0 \n",
    "v = vcf_df.iloc[9].to_numpy() # taking sample 0 \n",
    "y, M, E, v, y.shape, E.shape, M.shape, v.shape"
   ]
  },
  {
   "cell_type": "code",
   "execution_count": 230,
   "metadata": {},
   "outputs": [
    {
     "name": "stdout",
     "output_type": "stream",
     "text": [
      "RUNNING THE L-BFGS-B CODE\n",
      "\n",
      "           * * *\n",
      "\n",
      "Machine precision = 2.220D-16\n",
      " N =            2     M =           10\n",
      "\n",
      "At X0         0 variables are exactly at the bounds\n",
      "\n",
      "At iterate    0    f=  1.02255D+02    |proj g|=  1.11141D+01\n",
      "\n",
      "At iterate    1    f=  1.94567D+01    |proj g|=  1.01217D+01\n",
      "\n",
      "At iterate    2    f= -4.53435D+01    |proj g|=  1.10746D+01\n",
      "\n",
      "At iterate    3    f= -4.78147D+01    |proj g|=  4.30420D+00\n",
      "\n",
      "At iterate    4    f= -4.81644D+01    |proj g|=  2.13007D+00\n",
      "\n",
      "At iterate    5    f= -4.81910D+01    |proj g|=  4.06990D-01\n",
      "\n",
      "At iterate    6    f= -4.81922D+01    |proj g|=  1.16192D-02\n",
      "\n",
      "At iterate    7    f= -4.81922D+01    |proj g|=  1.05544D-03\n",
      "\n",
      "At iterate    8    f= -4.81922D+01    |proj g|=  1.36333D-05\n",
      "\n",
      "           * * *\n",
      "\n",
      "Tit   = total number of iterations\n",
      "Tnf   = total number of function evaluations\n",
      "Tnint = total number of segments explored during Cauchy searches\n",
      "Skip  = number of BFGS updates skipped\n",
      "Nact  = number of active bounds at final generalized Cauchy point\n",
      "Projg = norm of the final projected gradient\n",
      "F     = final function value\n",
      "\n",
      "           * * *\n",
      "\n",
      "   N    Tit     Tnf  Tnint  Skip  Nact     Projg        F\n",
      "    2      8     11      9     0     0   1.363D-05  -4.819D+01\n",
      "  F =  -48.192231573244499     \n",
      "\n",
      "CONVERGENCE: REL_REDUCTION_OF_F_<=_FACTR*EPSMCH             \n",
      "CPU times: user 230 ms, sys: 227 ms, total: 457 ms\n",
      "Wall time: 224 ms\n"
     ]
    },
    {
     "data": {
      "text/plain": [
       "0.004895838062389135"
      ]
     },
     "execution_count": 230,
     "metadata": {},
     "output_type": "execute_result"
    }
   ],
   "source": [
    "%%time\n",
    "lmm = StructLMM(y, M, E)\n",
    "lmm.fit()\n",
    "lmm.score_2dof_inter(v)"
   ]
  }
 ],
 "metadata": {
  "kernelspec": {
   "display_name": "base",
   "language": "python",
   "name": "python3"
  },
  "language_info": {
   "codemirror_mode": {
    "name": "ipython",
    "version": 3
   },
   "file_extension": ".py",
   "mimetype": "text/x-python",
   "name": "python",
   "nbconvert_exporter": "python",
   "pygments_lexer": "ipython3",
   "version": "3.9.13"
  }
 },
 "nbformat": 4,
 "nbformat_minor": 2
}
